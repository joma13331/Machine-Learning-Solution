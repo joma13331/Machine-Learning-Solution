{
 "cells": [
  {
   "cell_type": "code",
   "execution_count": 1,
   "id": "45c6eb57",
   "metadata": {},
   "outputs": [
    {
     "name": "stderr",
     "output_type": "stream",
     "text": [
      "C:\\Users\\jobin\\AppData\\Local\\Programs\\Python\\Python39\\lib\\site-packages\\tensorflow_addons\\utils\\ensure_tf_install.py:53: UserWarning: Tensorflow Addons supports using Python ops for all Tensorflow versions above or equal to 2.3.0 and strictly below 2.6.0 (nightly versions are not supported). \n",
      " The versions of TensorFlow you are currently using is 2.7.0 and is not supported. \n",
      "Some things might work, some things might not.\n",
      "If you were to encounter a bug, do not file an issue.\n",
      "If you want to make sure you're using a tested and supported configuration, either change the TensorFlow version or the TensorFlow Addons's version. \n",
      "You can find the compatibility matrix in TensorFlow Addon's readme:\n",
      "https://github.com/tensorflow/addons\n",
      "  warnings.warn(\n"
     ]
    }
   ],
   "source": [
    "import numpy as np\n",
    "import os\n",
    "\n",
    "from tflite_model_maker import configs\n",
    "from tflite_model_maker import ExportFormat\n",
    "from tflite_model_maker import model_spec\n",
    "from tflite_model_maker import image_classifier\n",
    "from tflite_model_maker.image_classifier import DataLoader\n",
    "\n",
    "import tensorflow as tf"
   ]
  },
  {
   "cell_type": "code",
   "execution_count": 4,
   "id": "1b0db9b7",
   "metadata": {},
   "outputs": [],
   "source": [
    "train_path = \"D:\\\\Technical Education\\\\Kotlin_Resources\\\\Machine_Learning_Apps\\\\Sign Language App\\\\train\""
   ]
  },
  {
   "cell_type": "code",
   "execution_count": 5,
   "id": "8fec07fd",
   "metadata": {},
   "outputs": [
    {
     "name": "stdout",
     "output_type": "stream",
     "text": [
      "INFO:tensorflow:Load image with size: 1512, num_label: 26, labels: A, B, C, D, E, F, G, H, I, J, K, L, M, N, O, P, Q, R, S, T, U, V, W, X, Y, Z.\n"
     ]
    }
   ],
   "source": [
    "train_data = DataLoader.from_folder(train_path)"
   ]
  },
  {
   "cell_type": "code",
   "execution_count": 17,
   "id": "084f5e09",
   "metadata": {},
   "outputs": [
    {
     "name": "stdout",
     "output_type": "stream",
     "text": [
      "INFO:tensorflow:Retraining the models...\n"
     ]
    },
    {
     "name": "stderr",
     "output_type": "stream",
     "text": [
      "INFO:tensorflow:Retraining the models...\n"
     ]
    },
    {
     "name": "stdout",
     "output_type": "stream",
     "text": [
      "Model: \"sequential_4\"\n",
      "_________________________________________________________________\n",
      " Layer (type)                Output Shape              Param #   \n",
      "=================================================================\n",
      " hub_keras_layer_v1v2_4 (Hub  (None, 1280)             3413024   \n",
      " KerasLayerV1V2)                                                 \n",
      "                                                                 \n",
      " dropout_4 (Dropout)         (None, 1280)              0         \n",
      "                                                                 \n",
      " dense_4 (Dense)             (None, 26)                33306     \n",
      "                                                                 \n",
      "=================================================================\n",
      "Total params: 3,446,330\n",
      "Trainable params: 33,306\n",
      "Non-trainable params: 3,413,024\n",
      "_________________________________________________________________\n",
      "None\n",
      "Epoch 1/50\n",
      "47/47 [==============================] - 6s 71ms/step - loss: 3.1286 - accuracy: 0.1376\n",
      "Epoch 2/50\n",
      "47/47 [==============================] - 3s 71ms/step - loss: 2.4450 - accuracy: 0.3896\n",
      "Epoch 3/50\n",
      "47/47 [==============================] - 3s 71ms/step - loss: 2.0568 - accuracy: 0.5698\n",
      "Epoch 4/50\n",
      "47/47 [==============================] - 3s 72ms/step - loss: 1.8039 - accuracy: 0.6676\n",
      "Epoch 5/50\n",
      "47/47 [==============================] - 4s 71ms/step - loss: 1.6378 - accuracy: 0.7274\n",
      "Epoch 6/50\n",
      "47/47 [==============================] - 3s 70ms/step - loss: 1.5085 - accuracy: 0.7739\n",
      "Epoch 7/50\n",
      "47/47 [==============================] - 4s 77ms/step - loss: 1.4204 - accuracy: 0.8145\n",
      "Epoch 8/50\n",
      "47/47 [==============================] - 4s 75ms/step - loss: 1.3455 - accuracy: 0.8305\n",
      "Epoch 9/50\n",
      "47/47 [==============================] - 4s 78ms/step - loss: 1.2769 - accuracy: 0.8637\n",
      "Epoch 10/50\n",
      "47/47 [==============================] - 4s 78ms/step - loss: 1.2331 - accuracy: 0.8803\n",
      "Epoch 11/50\n",
      "47/47 [==============================] - 4s 84ms/step - loss: 1.1821 - accuracy: 0.9016\n",
      "Epoch 12/50\n",
      "47/47 [==============================] - 4s 82ms/step - loss: 1.1609 - accuracy: 0.8949\n",
      "Epoch 13/50\n",
      "47/47 [==============================] - 5s 91ms/step - loss: 1.1342 - accuracy: 0.9089\n",
      "Epoch 14/50\n",
      "47/47 [==============================] - 5s 103ms/step - loss: 1.0974 - accuracy: 0.9362\n",
      "Epoch 15/50\n",
      "47/47 [==============================] - 5s 107ms/step - loss: 1.0752 - accuracy: 0.9302\n",
      "Epoch 16/50\n",
      "47/47 [==============================] - 6s 122ms/step - loss: 1.0636 - accuracy: 0.9309\n",
      "Epoch 17/50\n",
      "47/47 [==============================] - 8s 166ms/step - loss: 1.0421 - accuracy: 0.9435\n",
      "Epoch 18/50\n",
      "47/47 [==============================] - 8s 162ms/step - loss: 1.0174 - accuracy: 0.9574\n",
      "Epoch 19/50\n",
      "47/47 [==============================] - 8s 161ms/step - loss: 1.0103 - accuracy: 0.9535\n",
      "Epoch 20/50\n",
      "47/47 [==============================] - 8s 161ms/step - loss: 0.9883 - accuracy: 0.9594\n",
      "Epoch 21/50\n",
      "47/47 [==============================] - 8s 161ms/step - loss: 0.9871 - accuracy: 0.9561\n",
      "Epoch 22/50\n",
      "47/47 [==============================] - 8s 161ms/step - loss: 0.9700 - accuracy: 0.9674\n",
      "Epoch 23/50\n",
      "47/47 [==============================] - 8s 168ms/step - loss: 0.9656 - accuracy: 0.9694\n",
      "Epoch 24/50\n",
      "47/47 [==============================] - 8s 170ms/step - loss: 0.9557 - accuracy: 0.9694\n",
      "Epoch 25/50\n",
      "47/47 [==============================] - 8s 168ms/step - loss: 0.9537 - accuracy: 0.9688\n",
      "Epoch 26/50\n",
      "47/47 [==============================] - 8s 169ms/step - loss: 0.9333 - accuracy: 0.9814\n",
      "Epoch 27/50\n",
      "47/47 [==============================] - 8s 169ms/step - loss: 0.9264 - accuracy: 0.9721\n",
      "Epoch 28/50\n",
      "47/47 [==============================] - 8s 169ms/step - loss: 0.9274 - accuracy: 0.9774\n",
      "Epoch 29/50\n",
      "47/47 [==============================] - 8s 170ms/step - loss: 0.9299 - accuracy: 0.9741\n",
      "Epoch 30/50\n",
      "47/47 [==============================] - 8s 171ms/step - loss: 0.9128 - accuracy: 0.9814\n",
      "Epoch 31/50\n",
      "47/47 [==============================] - 8s 171ms/step - loss: 0.9076 - accuracy: 0.9820\n",
      "Epoch 32/50\n",
      "47/47 [==============================] - 8s 169ms/step - loss: 0.9024 - accuracy: 0.97941s - loss: 0.9030 \n",
      "Epoch 33/50\n",
      "47/47 [==============================] - 8s 167ms/step - loss: 0.9034 - accuracy: 0.9801\n",
      "Epoch 34/50\n",
      "47/47 [==============================] - 8s 168ms/step - loss: 0.8943 - accuracy: 0.9854\n",
      "Epoch 35/50\n",
      "47/47 [==============================] - 8s 172ms/step - loss: 0.8822 - accuracy: 0.9867\n",
      "Epoch 36/50\n",
      "47/47 [==============================] - 8s 169ms/step - loss: 0.8939 - accuracy: 0.9801\n",
      "Epoch 37/50\n",
      "47/47 [==============================] - 8s 170ms/step - loss: 0.8866 - accuracy: 0.9847\n",
      "Epoch 38/50\n",
      "47/47 [==============================] - 8s 169ms/step - loss: 0.8805 - accuracy: 0.9834\n",
      "Epoch 39/50\n",
      "47/47 [==============================] - 8s 169ms/step - loss: 0.8725 - accuracy: 0.9867\n",
      "Epoch 40/50\n",
      "47/47 [==============================] - 8s 168ms/step - loss: 0.8705 - accuracy: 0.9860\n",
      "Epoch 41/50\n",
      "47/47 [==============================] - 8s 167ms/step - loss: 0.8704 - accuracy: 0.9900\n",
      "Epoch 42/50\n",
      "47/47 [==============================] - 8s 169ms/step - loss: 0.8708 - accuracy: 0.9880\n",
      "Epoch 43/50\n",
      "47/47 [==============================] - 8s 169ms/step - loss: 0.8635 - accuracy: 0.9867\n",
      "Epoch 44/50\n",
      "47/47 [==============================] - 8s 169ms/step - loss: 0.8612 - accuracy: 0.9867\n",
      "Epoch 45/50\n",
      "47/47 [==============================] - 8s 169ms/step - loss: 0.8579 - accuracy: 0.9887\n",
      "Epoch 46/50\n",
      "47/47 [==============================] - 8s 167ms/step - loss: 0.8554 - accuracy: 0.9907\n",
      "Epoch 47/50\n",
      "47/47 [==============================] - 8s 168ms/step - loss: 0.8513 - accuracy: 0.9947\n",
      "Epoch 48/50\n",
      "47/47 [==============================] - 8s 168ms/step - loss: 0.8467 - accuracy: 0.9953\n",
      "Epoch 49/50\n",
      "47/47 [==============================] - 8s 168ms/step - loss: 0.8512 - accuracy: 0.9927\n",
      "Epoch 50/50\n",
      "47/47 [==============================] - 8s 167ms/step - loss: 0.8547 - accuracy: 0.9887\n"
     ]
    }
   ],
   "source": [
    "model = image_classifier.create(train_data, epochs=50)"
   ]
  },
  {
   "cell_type": "code",
   "execution_count": 18,
   "id": "d76eb4ce",
   "metadata": {},
   "outputs": [
    {
     "name": "stdout",
     "output_type": "stream",
     "text": [
      "INFO:tensorflow:Load image with size: 72, num_label: 26, labels: A, B, C, D, E, F, G, H, I, J, K, L, M, N, O, P, Q, R, S, T, U, V, W, X, Y, Z.\n"
     ]
    },
    {
     "name": "stderr",
     "output_type": "stream",
     "text": [
      "INFO:tensorflow:Load image with size: 72, num_label: 26, labels: A, B, C, D, E, F, G, H, I, J, K, L, M, N, O, P, Q, R, S, T, U, V, W, X, Y, Z.\n"
     ]
    }
   ],
   "source": [
    "test_path = \"D:\\\\Technical Education\\\\Kotlin_Resources\\\\Machine_Learning_Apps\\\\Sign Language App\\\\test\"\n",
    "test_data = DataLoader.from_folder(test_path)"
   ]
  },
  {
   "cell_type": "code",
   "execution_count": 19,
   "id": "01e4b451",
   "metadata": {},
   "outputs": [
    {
     "name": "stdout",
     "output_type": "stream",
     "text": [
      "3/3 [==============================] - 1s 104ms/step - loss: 1.9184 - accuracy: 0.5139\n"
     ]
    }
   ],
   "source": [
    "loss, accuracy = model.evaluate(test_data)"
   ]
  },
  {
   "cell_type": "code",
   "execution_count": 21,
   "id": "fc4de63f",
   "metadata": {},
   "outputs": [
    {
     "name": "stdout",
     "output_type": "stream",
     "text": [
      "INFO:tensorflow:Load image with size: 144, num_label: 26, labels: A, B, C, D, E, F, G, H, I, J, K, L, M, N, O, P, Q, R, S, T, U, V, W, X, Y, Z.\n"
     ]
    },
    {
     "name": "stderr",
     "output_type": "stream",
     "text": [
      "INFO:tensorflow:Load image with size: 144, num_label: 26, labels: A, B, C, D, E, F, G, H, I, J, K, L, M, N, O, P, Q, R, S, T, U, V, W, X, Y, Z.\n"
     ]
    },
    {
     "name": "stdout",
     "output_type": "stream",
     "text": [
      "5/5 [==============================] - 1s 127ms/step - loss: 1.5914 - accuracy: 0.7083\n"
     ]
    }
   ],
   "source": [
    "val_path = \"D:\\\\Technical Education\\\\Kotlin_Resources\\\\Machine_Learning_Apps\\\\Sign Language App\\\\valid\"\n",
    "val_data = DataLoader.from_folder(val_path)\n",
    "loss, accuracy = model.evaluate(val_data)"
   ]
  },
  {
   "cell_type": "code",
   "execution_count": 23,
   "id": "d19f5fb1",
   "metadata": {},
   "outputs": [
    {
     "name": "stdout",
     "output_type": "stream",
     "text": [
      "INFO:tensorflow:Assets written to: C:\\Users\\jobin\\AppData\\Local\\Temp\\tmpgvz_lb6f\\assets\n"
     ]
    },
    {
     "name": "stderr",
     "output_type": "stream",
     "text": [
      "INFO:tensorflow:Assets written to: C:\\Users\\jobin\\AppData\\Local\\Temp\\tmpgvz_lb6f\\assets\n"
     ]
    },
    {
     "ename": "KeyboardInterrupt",
     "evalue": "",
     "output_type": "error",
     "traceback": [
      "\u001b[1;31m---------------------------------------------------------------------------\u001b[0m",
      "\u001b[1;31mKeyboardInterrupt\u001b[0m                         Traceback (most recent call last)",
      "\u001b[1;32m<ipython-input-23-a80924566def>\u001b[0m in \u001b[0;36m<module>\u001b[1;34m\u001b[0m\n\u001b[1;32m----> 1\u001b[1;33m \u001b[0mmodel\u001b[0m\u001b[1;33m.\u001b[0m\u001b[0mexport\u001b[0m\u001b[1;33m(\u001b[0m\u001b[0mexport_dir\u001b[0m\u001b[1;33m=\u001b[0m\u001b[1;34m\"D:\\\\Technical Education\\\\Kotlin_Resources\\\\Machine_Learning_Apps\\\\Sign Language App\"\u001b[0m\u001b[1;33m)\u001b[0m\u001b[1;33m\u001b[0m\u001b[1;33m\u001b[0m\u001b[0m\n\u001b[0m",
      "\u001b[1;32m~\\AppData\\Local\\Programs\\Python\\Python39\\lib\\site-packages\\tensorflow_examples\\lite\\model_maker\\core\\task\\custom_model.py\u001b[0m in \u001b[0;36mexport\u001b[1;34m(self, export_dir, tflite_filename, label_filename, vocab_filename, saved_model_filename, tfjs_folder_name, export_format, **kwargs)\u001b[0m\n\u001b[0;32m    130\u001b[0m       \u001b[0mtflite_filepath\u001b[0m \u001b[1;33m=\u001b[0m \u001b[0mos\u001b[0m\u001b[1;33m.\u001b[0m\u001b[0mpath\u001b[0m\u001b[1;33m.\u001b[0m\u001b[0mjoin\u001b[0m\u001b[1;33m(\u001b[0m\u001b[0mexport_dir\u001b[0m\u001b[1;33m,\u001b[0m \u001b[0mtflite_filename\u001b[0m\u001b[1;33m)\u001b[0m\u001b[1;33m\u001b[0m\u001b[1;33m\u001b[0m\u001b[0m\n\u001b[0;32m    131\u001b[0m       \u001b[0mexport_tflite_kwargs\u001b[0m\u001b[1;33m,\u001b[0m \u001b[0mkwargs\u001b[0m \u001b[1;33m=\u001b[0m \u001b[0m_get_params\u001b[0m\u001b[1;33m(\u001b[0m\u001b[0mself\u001b[0m\u001b[1;33m.\u001b[0m\u001b[0m_export_tflite\u001b[0m\u001b[1;33m,\u001b[0m \u001b[1;33m**\u001b[0m\u001b[0mkwargs\u001b[0m\u001b[1;33m)\u001b[0m\u001b[1;33m\u001b[0m\u001b[1;33m\u001b[0m\u001b[0m\n\u001b[1;32m--> 132\u001b[1;33m       \u001b[0mself\u001b[0m\u001b[1;33m.\u001b[0m\u001b[0m_export_tflite\u001b[0m\u001b[1;33m(\u001b[0m\u001b[0mtflite_filepath\u001b[0m\u001b[1;33m,\u001b[0m \u001b[1;33m**\u001b[0m\u001b[0mexport_tflite_kwargs\u001b[0m\u001b[1;33m)\u001b[0m\u001b[1;33m\u001b[0m\u001b[1;33m\u001b[0m\u001b[0m\n\u001b[0m\u001b[0;32m    133\u001b[0m       tf.compat.v1.logging.info(\n\u001b[0;32m    134\u001b[0m           'TensorFlow Lite model exported successfully: %s' % tflite_filepath)\n",
      "\u001b[1;32m~\\AppData\\Local\\Programs\\Python\\Python39\\lib\\site-packages\\tensorflow_examples\\lite\\model_maker\\core\\task\\image_classifier.py\u001b[0m in \u001b[0;36m_export_tflite\u001b[1;34m(self, tflite_filepath, quantization_config, with_metadata, export_metadata_json_file)\u001b[0m\n\u001b[0;32m    217\u001b[0m       quantization_config = self.model_spec.get_default_quantization_config(\n\u001b[0;32m    218\u001b[0m           self.representative_data)\n\u001b[1;32m--> 219\u001b[1;33m     model_util.export_tflite(\n\u001b[0m\u001b[0;32m    220\u001b[0m         \u001b[0mself\u001b[0m\u001b[1;33m.\u001b[0m\u001b[0mmodel\u001b[0m\u001b[1;33m,\u001b[0m\u001b[1;33m\u001b[0m\u001b[1;33m\u001b[0m\u001b[0m\n\u001b[0;32m    221\u001b[0m         \u001b[0mtflite_filepath\u001b[0m\u001b[1;33m,\u001b[0m\u001b[1;33m\u001b[0m\u001b[1;33m\u001b[0m\u001b[0m\n",
      "\u001b[1;32m~\\AppData\\Local\\Programs\\Python\\Python39\\lib\\site-packages\\tensorflow_examples\\lite\\model_maker\\core\\task\\model_util.py\u001b[0m in \u001b[0;36mexport_tflite\u001b[1;34m(model, tflite_filepath, quantization_config, convert_from_saved_model_tf2, preprocess, supported_ops)\u001b[0m\n\u001b[0;32m    164\u001b[0m \u001b[1;33m\u001b[0m\u001b[0m\n\u001b[0;32m    165\u001b[0m     \u001b[0mconverter\u001b[0m\u001b[1;33m.\u001b[0m\u001b[0mtarget_spec\u001b[0m\u001b[1;33m.\u001b[0m\u001b[0msupported_ops\u001b[0m \u001b[1;33m=\u001b[0m \u001b[0msupported_ops\u001b[0m\u001b[1;33m\u001b[0m\u001b[1;33m\u001b[0m\u001b[0m\n\u001b[1;32m--> 166\u001b[1;33m     \u001b[0mtflite_model\u001b[0m \u001b[1;33m=\u001b[0m \u001b[0mconverter\u001b[0m\u001b[1;33m.\u001b[0m\u001b[0mconvert\u001b[0m\u001b[1;33m(\u001b[0m\u001b[1;33m)\u001b[0m\u001b[1;33m\u001b[0m\u001b[1;33m\u001b[0m\u001b[0m\n\u001b[0m\u001b[0;32m    167\u001b[0m \u001b[1;33m\u001b[0m\u001b[0m\n\u001b[0;32m    168\u001b[0m   \u001b[1;32mwith\u001b[0m \u001b[0mtf\u001b[0m\u001b[1;33m.\u001b[0m\u001b[0mio\u001b[0m\u001b[1;33m.\u001b[0m\u001b[0mgfile\u001b[0m\u001b[1;33m.\u001b[0m\u001b[0mGFile\u001b[0m\u001b[1;33m(\u001b[0m\u001b[0mtflite_filepath\u001b[0m\u001b[1;33m,\u001b[0m \u001b[1;34m'wb'\u001b[0m\u001b[1;33m)\u001b[0m \u001b[1;32mas\u001b[0m \u001b[0mf\u001b[0m\u001b[1;33m:\u001b[0m\u001b[1;33m\u001b[0m\u001b[1;33m\u001b[0m\u001b[0m\n",
      "\u001b[1;32m~\\AppData\\Local\\Programs\\Python\\Python39\\lib\\site-packages\\tensorflow\\lite\\python\\lite.py\u001b[0m in \u001b[0;36mwrapper\u001b[1;34m(self, *args, **kwargs)\u001b[0m\n\u001b[0;32m    773\u001b[0m   \u001b[1;32mdef\u001b[0m \u001b[0mwrapper\u001b[0m\u001b[1;33m(\u001b[0m\u001b[0mself\u001b[0m\u001b[1;33m,\u001b[0m \u001b[1;33m*\u001b[0m\u001b[0margs\u001b[0m\u001b[1;33m,\u001b[0m \u001b[1;33m**\u001b[0m\u001b[0mkwargs\u001b[0m\u001b[1;33m)\u001b[0m\u001b[1;33m:\u001b[0m\u001b[1;33m\u001b[0m\u001b[1;33m\u001b[0m\u001b[0m\n\u001b[0;32m    774\u001b[0m     \u001b[1;31m# pylint: disable=protected-access\u001b[0m\u001b[1;33m\u001b[0m\u001b[1;33m\u001b[0m\u001b[1;33m\u001b[0m\u001b[0m\n\u001b[1;32m--> 775\u001b[1;33m     \u001b[1;32mreturn\u001b[0m \u001b[0mself\u001b[0m\u001b[1;33m.\u001b[0m\u001b[0m_convert_and_export_metrics\u001b[0m\u001b[1;33m(\u001b[0m\u001b[0mconvert_func\u001b[0m\u001b[1;33m,\u001b[0m \u001b[1;33m*\u001b[0m\u001b[0margs\u001b[0m\u001b[1;33m,\u001b[0m \u001b[1;33m**\u001b[0m\u001b[0mkwargs\u001b[0m\u001b[1;33m)\u001b[0m\u001b[1;33m\u001b[0m\u001b[1;33m\u001b[0m\u001b[0m\n\u001b[0m\u001b[0;32m    776\u001b[0m     \u001b[1;31m# pylint: enable=protected-access\u001b[0m\u001b[1;33m\u001b[0m\u001b[1;33m\u001b[0m\u001b[1;33m\u001b[0m\u001b[0m\n\u001b[0;32m    777\u001b[0m \u001b[1;33m\u001b[0m\u001b[0m\n",
      "\u001b[1;32m~\\AppData\\Local\\Programs\\Python\\Python39\\lib\\site-packages\\tensorflow\\lite\\python\\lite.py\u001b[0m in \u001b[0;36m_convert_and_export_metrics\u001b[1;34m(self, convert_func, *args, **kwargs)\u001b[0m\n\u001b[0;32m    759\u001b[0m     \u001b[0mself\u001b[0m\u001b[1;33m.\u001b[0m\u001b[0m_save_conversion_params_metric\u001b[0m\u001b[1;33m(\u001b[0m\u001b[1;33m)\u001b[0m\u001b[1;33m\u001b[0m\u001b[1;33m\u001b[0m\u001b[0m\n\u001b[0;32m    760\u001b[0m     \u001b[0mstart_time\u001b[0m \u001b[1;33m=\u001b[0m \u001b[0mtime\u001b[0m\u001b[1;33m.\u001b[0m\u001b[0mprocess_time\u001b[0m\u001b[1;33m(\u001b[0m\u001b[1;33m)\u001b[0m\u001b[1;33m\u001b[0m\u001b[1;33m\u001b[0m\u001b[0m\n\u001b[1;32m--> 761\u001b[1;33m     \u001b[0mresult\u001b[0m \u001b[1;33m=\u001b[0m \u001b[0mconvert_func\u001b[0m\u001b[1;33m(\u001b[0m\u001b[0mself\u001b[0m\u001b[1;33m,\u001b[0m \u001b[1;33m*\u001b[0m\u001b[0margs\u001b[0m\u001b[1;33m,\u001b[0m \u001b[1;33m**\u001b[0m\u001b[0mkwargs\u001b[0m\u001b[1;33m)\u001b[0m\u001b[1;33m\u001b[0m\u001b[1;33m\u001b[0m\u001b[0m\n\u001b[0m\u001b[0;32m    762\u001b[0m     \u001b[0melapsed_time_ms\u001b[0m \u001b[1;33m=\u001b[0m \u001b[1;33m(\u001b[0m\u001b[0mtime\u001b[0m\u001b[1;33m.\u001b[0m\u001b[0mprocess_time\u001b[0m\u001b[1;33m(\u001b[0m\u001b[1;33m)\u001b[0m \u001b[1;33m-\u001b[0m \u001b[0mstart_time\u001b[0m\u001b[1;33m)\u001b[0m \u001b[1;33m*\u001b[0m \u001b[1;36m1000\u001b[0m\u001b[1;33m\u001b[0m\u001b[1;33m\u001b[0m\u001b[0m\n\u001b[0;32m    763\u001b[0m     \u001b[1;32mif\u001b[0m \u001b[0mresult\u001b[0m\u001b[1;33m:\u001b[0m\u001b[1;33m\u001b[0m\u001b[1;33m\u001b[0m\u001b[0m\n",
      "\u001b[1;32m~\\AppData\\Local\\Programs\\Python\\Python39\\lib\\site-packages\\tensorflow\\lite\\python\\lite.py\u001b[0m in \u001b[0;36mconvert\u001b[1;34m(self)\u001b[0m\n\u001b[0;32m   1178\u001b[0m                                         output_tensors, frozen_func)\n\u001b[0;32m   1179\u001b[0m \u001b[1;33m\u001b[0m\u001b[0m\n\u001b[1;32m-> 1180\u001b[1;33m     return super(TFLiteKerasModelConverterV2,\n\u001b[0m\u001b[0;32m   1181\u001b[0m                  self).convert(graph_def, input_tensors, output_tensors)\n\u001b[0;32m   1182\u001b[0m \u001b[1;33m\u001b[0m\u001b[0m\n",
      "\u001b[1;32m~\\AppData\\Local\\Programs\\Python\\Python39\\lib\\site-packages\\tensorflow\\lite\\python\\lite.py\u001b[0m in \u001b[0;36mconvert\u001b[1;34m(self, graph_def, input_tensors, output_tensors)\u001b[0m\n\u001b[0;32m    949\u001b[0m         **converter_kwargs)\n\u001b[0;32m    950\u001b[0m \u001b[1;33m\u001b[0m\u001b[0m\n\u001b[1;32m--> 951\u001b[1;33m     return self._optimize_tflite_model(\n\u001b[0m\u001b[0;32m    952\u001b[0m         result, self._quant_mode, quant_io=self.experimental_new_quantizer)\n\u001b[0;32m    953\u001b[0m \u001b[1;33m\u001b[0m\u001b[0m\n",
      "\u001b[1;32m~\\AppData\\Local\\Programs\\Python\\Python39\\lib\\site-packages\\tensorflow\\lite\\python\\convert_phase.py\u001b[0m in \u001b[0;36mwrapper\u001b[1;34m(*args, **kwargs)\u001b[0m\n\u001b[0;32m    214\u001b[0m     \u001b[1;32mdef\u001b[0m \u001b[0mwrapper\u001b[0m\u001b[1;33m(\u001b[0m\u001b[1;33m*\u001b[0m\u001b[0margs\u001b[0m\u001b[1;33m,\u001b[0m \u001b[1;33m**\u001b[0m\u001b[0mkwargs\u001b[0m\u001b[1;33m)\u001b[0m\u001b[1;33m:\u001b[0m\u001b[1;33m\u001b[0m\u001b[1;33m\u001b[0m\u001b[0m\n\u001b[0;32m    215\u001b[0m       \u001b[1;32mtry\u001b[0m\u001b[1;33m:\u001b[0m\u001b[1;33m\u001b[0m\u001b[1;33m\u001b[0m\u001b[0m\n\u001b[1;32m--> 216\u001b[1;33m         \u001b[1;32mreturn\u001b[0m \u001b[0mfunc\u001b[0m\u001b[1;33m(\u001b[0m\u001b[1;33m*\u001b[0m\u001b[0margs\u001b[0m\u001b[1;33m,\u001b[0m \u001b[1;33m**\u001b[0m\u001b[0mkwargs\u001b[0m\u001b[1;33m)\u001b[0m\u001b[1;33m\u001b[0m\u001b[1;33m\u001b[0m\u001b[0m\n\u001b[0m\u001b[0;32m    217\u001b[0m       \u001b[1;32mexcept\u001b[0m \u001b[0mConverterError\u001b[0m \u001b[1;32mas\u001b[0m \u001b[0mconverter_error\u001b[0m\u001b[1;33m:\u001b[0m\u001b[1;33m\u001b[0m\u001b[1;33m\u001b[0m\u001b[0m\n\u001b[0;32m    218\u001b[0m         \u001b[1;32mif\u001b[0m \u001b[0mconverter_error\u001b[0m\u001b[1;33m.\u001b[0m\u001b[0merrors\u001b[0m\u001b[1;33m:\u001b[0m\u001b[1;33m\u001b[0m\u001b[1;33m\u001b[0m\u001b[0m\n",
      "\u001b[1;32m~\\AppData\\Local\\Programs\\Python\\Python39\\lib\\site-packages\\tensorflow\\lite\\python\\lite.py\u001b[0m in \u001b[0;36m_optimize_tflite_model\u001b[1;34m(self, model, quant_mode, quant_io)\u001b[0m\n\u001b[0;32m    719\u001b[0m         \u001b[0mq_activations_type\u001b[0m \u001b[1;33m=\u001b[0m \u001b[0mquant_mode\u001b[0m\u001b[1;33m.\u001b[0m\u001b[0mactivations_type\u001b[0m\u001b[1;33m(\u001b[0m\u001b[1;33m)\u001b[0m\u001b[1;33m\u001b[0m\u001b[1;33m\u001b[0m\u001b[0m\n\u001b[0;32m    720\u001b[0m         \u001b[0mq_allow_float\u001b[0m \u001b[1;33m=\u001b[0m \u001b[0mquant_mode\u001b[0m\u001b[1;33m.\u001b[0m\u001b[0mis_allow_float\u001b[0m\u001b[1;33m(\u001b[0m\u001b[1;33m)\u001b[0m\u001b[1;33m\u001b[0m\u001b[1;33m\u001b[0m\u001b[0m\n\u001b[1;32m--> 721\u001b[1;33m         model = self._quantize(\n\u001b[0m\u001b[0;32m    722\u001b[0m             model, q_in_type, q_out_type, q_activations_type, q_allow_float)\n\u001b[0;32m    723\u001b[0m \u001b[1;33m\u001b[0m\u001b[0m\n",
      "\u001b[1;32m~\\AppData\\Local\\Programs\\Python\\Python39\\lib\\site-packages\\tensorflow\\lite\\python\\lite.py\u001b[0m in \u001b[0;36m_quantize\u001b[1;34m(self, result, input_type, output_type, activations_type, allow_float)\u001b[0m\n\u001b[0;32m    527\u001b[0m                                                 custom_op_registerers_by_func)\n\u001b[0;32m    528\u001b[0m     \u001b[1;32mif\u001b[0m \u001b[0mself\u001b[0m\u001b[1;33m.\u001b[0m\u001b[0m_experimental_calibrate_only\u001b[0m \u001b[1;32mor\u001b[0m \u001b[0mself\u001b[0m\u001b[1;33m.\u001b[0m\u001b[0mexperimental_new_quantizer\u001b[0m\u001b[1;33m:\u001b[0m\u001b[1;33m\u001b[0m\u001b[1;33m\u001b[0m\u001b[0m\n\u001b[1;32m--> 529\u001b[1;33m       calibrated = calibrate_quantize.calibrate(\n\u001b[0m\u001b[0;32m    530\u001b[0m           self.representative_dataset.input_gen)\n\u001b[0;32m    531\u001b[0m \u001b[1;33m\u001b[0m\u001b[0m\n",
      "\u001b[1;32m~\\AppData\\Local\\Programs\\Python\\Python39\\lib\\site-packages\\tensorflow\\lite\\python\\convert_phase.py\u001b[0m in \u001b[0;36mwrapper\u001b[1;34m(*args, **kwargs)\u001b[0m\n\u001b[0;32m    214\u001b[0m     \u001b[1;32mdef\u001b[0m \u001b[0mwrapper\u001b[0m\u001b[1;33m(\u001b[0m\u001b[1;33m*\u001b[0m\u001b[0margs\u001b[0m\u001b[1;33m,\u001b[0m \u001b[1;33m**\u001b[0m\u001b[0mkwargs\u001b[0m\u001b[1;33m)\u001b[0m\u001b[1;33m:\u001b[0m\u001b[1;33m\u001b[0m\u001b[1;33m\u001b[0m\u001b[0m\n\u001b[0;32m    215\u001b[0m       \u001b[1;32mtry\u001b[0m\u001b[1;33m:\u001b[0m\u001b[1;33m\u001b[0m\u001b[1;33m\u001b[0m\u001b[0m\n\u001b[1;32m--> 216\u001b[1;33m         \u001b[1;32mreturn\u001b[0m \u001b[0mfunc\u001b[0m\u001b[1;33m(\u001b[0m\u001b[1;33m*\u001b[0m\u001b[0margs\u001b[0m\u001b[1;33m,\u001b[0m \u001b[1;33m**\u001b[0m\u001b[0mkwargs\u001b[0m\u001b[1;33m)\u001b[0m\u001b[1;33m\u001b[0m\u001b[1;33m\u001b[0m\u001b[0m\n\u001b[0m\u001b[0;32m    217\u001b[0m       \u001b[1;32mexcept\u001b[0m \u001b[0mConverterError\u001b[0m \u001b[1;32mas\u001b[0m \u001b[0mconverter_error\u001b[0m\u001b[1;33m:\u001b[0m\u001b[1;33m\u001b[0m\u001b[1;33m\u001b[0m\u001b[0m\n\u001b[0;32m    218\u001b[0m         \u001b[1;32mif\u001b[0m \u001b[0mconverter_error\u001b[0m\u001b[1;33m.\u001b[0m\u001b[0merrors\u001b[0m\u001b[1;33m:\u001b[0m\u001b[1;33m\u001b[0m\u001b[1;33m\u001b[0m\u001b[0m\n",
      "\u001b[1;32m~\\AppData\\Local\\Programs\\Python\\Python39\\lib\\site-packages\\tensorflow\\lite\\python\\optimize\\calibrator.py\u001b[0m in \u001b[0;36mcalibrate\u001b[1;34m(self, dataset_gen)\u001b[0m\n\u001b[0;32m    226\u001b[0m       \u001b[0mdataset_gen\u001b[0m\u001b[1;33m:\u001b[0m \u001b[0mA\u001b[0m \u001b[0mgenerator\u001b[0m \u001b[0mthat\u001b[0m \u001b[0mgenerates\u001b[0m \u001b[0mcalibration\u001b[0m \u001b[0msamples\u001b[0m\u001b[1;33m.\u001b[0m\u001b[1;33m\u001b[0m\u001b[1;33m\u001b[0m\u001b[0m\n\u001b[0;32m    227\u001b[0m     \"\"\"\n\u001b[1;32m--> 228\u001b[1;33m     \u001b[0mself\u001b[0m\u001b[1;33m.\u001b[0m\u001b[0m_feed_tensors\u001b[0m\u001b[1;33m(\u001b[0m\u001b[0mdataset_gen\u001b[0m\u001b[1;33m,\u001b[0m \u001b[0mresize_input\u001b[0m\u001b[1;33m=\u001b[0m\u001b[1;32mTrue\u001b[0m\u001b[1;33m)\u001b[0m\u001b[1;33m\u001b[0m\u001b[1;33m\u001b[0m\u001b[0m\n\u001b[0m\u001b[0;32m    229\u001b[0m     \u001b[1;32mreturn\u001b[0m \u001b[0mself\u001b[0m\u001b[1;33m.\u001b[0m\u001b[0m_calibrator\u001b[0m\u001b[1;33m.\u001b[0m\u001b[0mCalibrate\u001b[0m\u001b[1;33m(\u001b[0m\u001b[1;33m)\u001b[0m\u001b[1;33m\u001b[0m\u001b[1;33m\u001b[0m\u001b[0m\n",
      "\u001b[1;32m~\\AppData\\Local\\Programs\\Python\\Python39\\lib\\site-packages\\tensorflow\\lite\\python\\optimize\\calibrator.py\u001b[0m in \u001b[0;36m_feed_tensors\u001b[1;34m(self, dataset_gen, resize_input)\u001b[0m\n\u001b[0;32m    140\u001b[0m         \u001b[0mself\u001b[0m\u001b[1;33m.\u001b[0m\u001b[0m_calibrator\u001b[0m\u001b[1;33m.\u001b[0m\u001b[0mFeedTensor\u001b[0m\u001b[1;33m(\u001b[0m\u001b[0minput_array\u001b[0m\u001b[1;33m,\u001b[0m \u001b[0msignature_key\u001b[0m\u001b[1;33m)\u001b[0m\u001b[1;33m\u001b[0m\u001b[1;33m\u001b[0m\u001b[0m\n\u001b[0;32m    141\u001b[0m       \u001b[1;32melse\u001b[0m\u001b[1;33m:\u001b[0m\u001b[1;33m\u001b[0m\u001b[1;33m\u001b[0m\u001b[0m\n\u001b[1;32m--> 142\u001b[1;33m         \u001b[0mself\u001b[0m\u001b[1;33m.\u001b[0m\u001b[0m_calibrator\u001b[0m\u001b[1;33m.\u001b[0m\u001b[0mFeedTensor\u001b[0m\u001b[1;33m(\u001b[0m\u001b[0minput_array\u001b[0m\u001b[1;33m)\u001b[0m\u001b[1;33m\u001b[0m\u001b[1;33m\u001b[0m\u001b[0m\n\u001b[0m\u001b[0;32m    143\u001b[0m \u001b[1;33m\u001b[0m\u001b[0m\n\u001b[0;32m    144\u001b[0m   @convert_phase(Component.OPTIMIZE_TFLITE_MODEL,\n",
      "\u001b[1;31mKeyboardInterrupt\u001b[0m: "
     ]
    }
   ],
   "source": [
    "model.export(export_dir=\"D:\\\\Technical Education\\\\Kotlin_Resources\\\\Machine_Learning_Apps\\\\Sign Language App\")"
   ]
  },
  {
   "cell_type": "markdown",
   "id": "a9d6c89b",
   "metadata": {},
   "source": [
    "# OBJECT DETECTION\n"
   ]
  },
  {
   "cell_type": "code",
   "execution_count": 1,
   "id": "4d64516b",
   "metadata": {},
   "outputs": [
    {
     "name": "stderr",
     "output_type": "stream",
     "text": [
      "C:\\Users\\jobin\\AppData\\Local\\Programs\\Python\\Python39\\lib\\site-packages\\tensorflow_addons\\utils\\ensure_tf_install.py:53: UserWarning: Tensorflow Addons supports using Python ops for all Tensorflow versions above or equal to 2.3.0 and strictly below 2.6.0 (nightly versions are not supported). \n",
      " The versions of TensorFlow you are currently using is 2.7.0 and is not supported. \n",
      "Some things might work, some things might not.\n",
      "If you were to encounter a bug, do not file an issue.\n",
      "If you want to make sure you're using a tested and supported configuration, either change the TensorFlow version or the TensorFlow Addons's version. \n",
      "You can find the compatibility matrix in TensorFlow Addon's readme:\n",
      "https://github.com/tensorflow/addons\n",
      "  warnings.warn(\n"
     ]
    }
   ],
   "source": [
    "import numpy as np\n",
    "import os\n",
    "\n",
    "from tflite_model_maker.config import QuantizationConfig\n",
    "from tflite_model_maker.config import ExportFormat\n",
    "from tflite_model_maker import model_spec\n",
    "from tflite_model_maker import object_detector\n",
    "\n",
    "import tensorflow as tf\n",
    "assert tf.__version__.startswith('2')\n",
    "\n",
    "tf.get_logger().setLevel('ERROR')\n",
    "from absl import logging\n",
    "logging.set_verbosity(logging.ERROR)"
   ]
  },
  {
   "cell_type": "code",
   "execution_count": 2,
   "id": "f8fa869b",
   "metadata": {},
   "outputs": [],
   "source": [
    "spec = model_spec.get('efficientdet_lite0')"
   ]
  },
  {
   "cell_type": "code",
   "execution_count": 4,
   "id": "90da480e",
   "metadata": {},
   "outputs": [],
   "source": [
    "train_data, validation_data, test_data = object_detector.DataLoader.from_csv('D:\\Technical Education\\Kotlin_Resources\\Machine_Learning_Apps\\Sign Language App\\dataset.csv')"
   ]
  },
  {
   "cell_type": "code",
   "execution_count": 5,
   "id": "873b541b",
   "metadata": {},
   "outputs": [
    {
     "name": "stdout",
     "output_type": "stream",
     "text": [
      "Epoch 1/50\n",
      "189/189 [==============================] - 130s 417ms/step - det_loss: 1.6020 - cls_loss: 1.2821 - box_loss: 0.0064 - reg_l2_loss: 0.0673 - loss: 1.6693 - learning_rate: 0.0090 - gradient_norm: 2.2671 - val_det_loss: 1.3853 - val_cls_loss: 1.1367 - val_box_loss: 0.0050 - val_reg_l2_loss: 0.0673 - val_loss: 1.4526\n",
      "Epoch 2/50\n",
      "189/189 [==============================] - 82s 431ms/step - det_loss: 1.1151 - cls_loss: 0.9824 - box_loss: 0.0027 - reg_l2_loss: 0.0674 - loss: 1.1825 - learning_rate: 0.0100 - gradient_norm: 2.6531 - val_det_loss: 1.0668 - val_cls_loss: 0.8684 - val_box_loss: 0.0040 - val_reg_l2_loss: 0.0676 - val_loss: 1.1344\n",
      "Epoch 3/50\n",
      "189/189 [==============================] - 103s 544ms/step - det_loss: 0.8653 - cls_loss: 0.7607 - box_loss: 0.0021 - reg_l2_loss: 0.0677 - loss: 0.9330 - learning_rate: 0.0099 - gradient_norm: 2.6355 - val_det_loss: 0.8494 - val_cls_loss: 0.7226 - val_box_loss: 0.0025 - val_reg_l2_loss: 0.0678 - val_loss: 0.9172\n",
      "Epoch 4/50\n",
      "189/189 [==============================] - 116s 612ms/step - det_loss: 0.7584 - cls_loss: 0.6597 - box_loss: 0.0020 - reg_l2_loss: 0.0679 - loss: 0.8263 - learning_rate: 0.0099 - gradient_norm: 2.8796 - val_det_loss: 0.8438 - val_cls_loss: 0.7008 - val_box_loss: 0.0029 - val_reg_l2_loss: 0.0680 - val_loss: 0.9118\n",
      "Epoch 5/50\n",
      "189/189 [==============================] - 147s 781ms/step - det_loss: 0.6849 - cls_loss: 0.6011 - box_loss: 0.0017 - reg_l2_loss: 0.0681 - loss: 0.7530 - learning_rate: 0.0098 - gradient_norm: 2.6414 - val_det_loss: 0.7273 - val_cls_loss: 0.6246 - val_box_loss: 0.0021 - val_reg_l2_loss: 0.0682 - val_loss: 0.7956\n",
      "Epoch 6/50\n",
      "189/189 [==============================] - 134s 712ms/step - det_loss: 0.6342 - cls_loss: 0.5585 - box_loss: 0.0015 - reg_l2_loss: 0.0683 - loss: 0.7025 - learning_rate: 0.0097 - gradient_norm: 2.5232 - val_det_loss: 0.8051 - val_cls_loss: 0.6518 - val_box_loss: 0.0031 - val_reg_l2_loss: 0.0684 - val_loss: 0.8735\n",
      "Epoch 7/50\n",
      "189/189 [==============================] - 143s 759ms/step - det_loss: 0.6058 - cls_loss: 0.5292 - box_loss: 0.0015 - reg_l2_loss: 0.0685 - loss: 0.6742 - learning_rate: 0.0096 - gradient_norm: 2.6940 - val_det_loss: 0.7288 - val_cls_loss: 0.6218 - val_box_loss: 0.0021 - val_reg_l2_loss: 0.0685 - val_loss: 0.7973\n",
      "Epoch 8/50\n",
      "189/189 [==============================] - 149s 790ms/step - det_loss: 0.5703 - cls_loss: 0.4973 - box_loss: 0.0015 - reg_l2_loss: 0.0686 - loss: 0.6389 - learning_rate: 0.0094 - gradient_norm: 2.9295 - val_det_loss: 0.7178 - val_cls_loss: 0.6139 - val_box_loss: 0.0021 - val_reg_l2_loss: 0.0688 - val_loss: 0.7866\n",
      "Epoch 9/50\n",
      "189/189 [==============================] - 173s 917ms/step - det_loss: 0.5412 - cls_loss: 0.4717 - box_loss: 0.0014 - reg_l2_loss: 0.0689 - loss: 0.6101 - learning_rate: 0.0093 - gradient_norm: 2.8299 - val_det_loss: 0.6180 - val_cls_loss: 0.5186 - val_box_loss: 0.0020 - val_reg_l2_loss: 0.0690 - val_loss: 0.6869\n",
      "Epoch 10/50\n",
      "189/189 [==============================] - 150s 796ms/step - det_loss: 0.5067 - cls_loss: 0.4408 - box_loss: 0.0013 - reg_l2_loss: 0.0691 - loss: 0.5757 - learning_rate: 0.0091 - gradient_norm: 2.8412 - val_det_loss: 0.5784 - val_cls_loss: 0.5241 - val_box_loss: 0.0011 - val_reg_l2_loss: 0.0691 - val_loss: 0.6475\n",
      "Epoch 11/50\n",
      "189/189 [==============================] - 93s 494ms/step - det_loss: 0.4899 - cls_loss: 0.4250 - box_loss: 0.0013 - reg_l2_loss: 0.0692 - loss: 0.5591 - learning_rate: 0.0089 - gradient_norm: 2.9566 - val_det_loss: 0.7039 - val_cls_loss: 0.5844 - val_box_loss: 0.0024 - val_reg_l2_loss: 0.0693 - val_loss: 0.7732\n",
      "Epoch 12/50\n",
      "189/189 [==============================] - 89s 472ms/step - det_loss: 0.4676 - cls_loss: 0.4083 - box_loss: 0.0012 - reg_l2_loss: 0.0694 - loss: 0.5371 - learning_rate: 0.0087 - gradient_norm: 2.9477 - val_det_loss: 0.4743 - val_cls_loss: 0.4218 - val_box_loss: 0.0011 - val_reg_l2_loss: 0.0695 - val_loss: 0.5439\n",
      "Epoch 13/50\n",
      "189/189 [==============================] - 88s 465ms/step - det_loss: 0.4559 - cls_loss: 0.3946 - box_loss: 0.0012 - reg_l2_loss: 0.0696 - loss: 0.5255 - learning_rate: 0.0085 - gradient_norm: 3.1227 - val_det_loss: 0.7123 - val_cls_loss: 0.5525 - val_box_loss: 0.0032 - val_reg_l2_loss: 0.0697 - val_loss: 0.7820\n",
      "Epoch 14/50\n",
      "189/189 [==============================] - 86s 456ms/step - det_loss: 0.4279 - cls_loss: 0.3690 - box_loss: 0.0012 - reg_l2_loss: 0.0698 - loss: 0.4977 - learning_rate: 0.0082 - gradient_norm: 2.9555 - val_det_loss: 0.4651 - val_cls_loss: 0.3887 - val_box_loss: 0.0015 - val_reg_l2_loss: 0.0699 - val_loss: 0.5349\n",
      "Epoch 15/50\n",
      "189/189 [==============================] - 93s 491ms/step - det_loss: 0.4122 - cls_loss: 0.3571 - box_loss: 0.0011 - reg_l2_loss: 0.0699 - loss: 0.4821 - learning_rate: 0.0080 - gradient_norm: 3.0363 - val_det_loss: 0.5746 - val_cls_loss: 0.4935 - val_box_loss: 0.0016 - val_reg_l2_loss: 0.0700 - val_loss: 0.6446\n",
      "Epoch 16/50\n",
      "189/189 [==============================] - 86s 455ms/step - det_loss: 0.3969 - cls_loss: 0.3455 - box_loss: 0.0010 - reg_l2_loss: 0.0701 - loss: 0.4670 - learning_rate: 0.0077 - gradient_norm: 2.8980 - val_det_loss: 0.4297 - val_cls_loss: 0.3636 - val_box_loss: 0.0013 - val_reg_l2_loss: 0.0702 - val_loss: 0.4999\n",
      "Epoch 17/50\n",
      "189/189 [==============================] - 85s 448ms/step - det_loss: 0.3828 - cls_loss: 0.3287 - box_loss: 0.0011 - reg_l2_loss: 0.0702 - loss: 0.4530 - learning_rate: 0.0075 - gradient_norm: 3.0731 - val_det_loss: 0.4773 - val_cls_loss: 0.4120 - val_box_loss: 0.0013 - val_reg_l2_loss: 0.0703 - val_loss: 0.5476\n",
      "Epoch 18/50\n",
      "189/189 [==============================] - 86s 452ms/step - det_loss: 0.3608 - cls_loss: 0.3119 - box_loss: 9.7802e-04 - reg_l2_loss: 0.0704 - loss: 0.4311 - learning_rate: 0.0072 - gradient_norm: 2.9040 - val_det_loss: 0.3970 - val_cls_loss: 0.3034 - val_box_loss: 0.0019 - val_reg_l2_loss: 0.0704 - val_loss: 0.4674\n",
      "Epoch 19/50\n",
      "189/189 [==============================] - 86s 453ms/step - det_loss: 0.3551 - cls_loss: 0.3061 - box_loss: 9.8032e-04 - reg_l2_loss: 0.0705 - loss: 0.4255 - learning_rate: 0.0069 - gradient_norm: 2.8700 - val_det_loss: 0.3991 - val_cls_loss: 0.2791 - val_box_loss: 0.0024 - val_reg_l2_loss: 0.0705 - val_loss: 0.4696\n",
      "Epoch 20/50\n",
      "189/189 [==============================] - 92s 488ms/step - det_loss: 0.3496 - cls_loss: 0.3028 - box_loss: 9.3519e-04 - reg_l2_loss: 0.0706 - loss: 0.4201 - learning_rate: 0.0066 - gradient_norm: 2.9685 - val_det_loss: 0.5098 - val_cls_loss: 0.4240 - val_box_loss: 0.0017 - val_reg_l2_loss: 0.0706 - val_loss: 0.5804\n",
      "Epoch 21/50\n",
      "189/189 [==============================] - 86s 454ms/step - det_loss: 0.3335 - cls_loss: 0.2861 - box_loss: 9.4751e-04 - reg_l2_loss: 0.0706 - loss: 0.4041 - learning_rate: 0.0063 - gradient_norm: 2.8586 - val_det_loss: 0.3333 - val_cls_loss: 0.2727 - val_box_loss: 0.0012 - val_reg_l2_loss: 0.0707 - val_loss: 0.4040\n",
      "Epoch 22/50\n",
      "189/189 [==============================] - 84s 445ms/step - det_loss: 0.3240 - cls_loss: 0.2782 - box_loss: 9.1577e-04 - reg_l2_loss: 0.0707 - loss: 0.3947 - learning_rate: 0.0060 - gradient_norm: 2.9579 - val_det_loss: 0.3163 - val_cls_loss: 0.2407 - val_box_loss: 0.0015 - val_reg_l2_loss: 0.0708 - val_loss: 0.3871\n",
      "Epoch 23/50\n",
      "189/189 [==============================] - 85s 450ms/step - det_loss: 0.3175 - cls_loss: 0.2722 - box_loss: 9.0636e-04 - reg_l2_loss: 0.0708 - loss: 0.3883 - learning_rate: 0.0056 - gradient_norm: 3.0723 - val_det_loss: 0.3215 - val_cls_loss: 0.2384 - val_box_loss: 0.0017 - val_reg_l2_loss: 0.0708 - val_loss: 0.3923\n",
      "Epoch 24/50\n",
      "189/189 [==============================] - 84s 446ms/step - det_loss: 0.3063 - cls_loss: 0.2654 - box_loss: 8.1876e-04 - reg_l2_loss: 0.0709 - loss: 0.3772 - learning_rate: 0.0053 - gradient_norm: 2.8317 - val_det_loss: 0.4090 - val_cls_loss: 0.3114 - val_box_loss: 0.0020 - val_reg_l2_loss: 0.0709 - val_loss: 0.4799\n",
      "Epoch 25/50\n",
      "189/189 [==============================] - 95s 500ms/step - det_loss: 0.3047 - cls_loss: 0.2612 - box_loss: 8.6969e-04 - reg_l2_loss: 0.0709 - loss: 0.3756 - learning_rate: 0.0050 - gradient_norm: 2.8610 - val_det_loss: 0.3672 - val_cls_loss: 0.2335 - val_box_loss: 0.0027 - val_reg_l2_loss: 0.0709 - val_loss: 0.4381\n",
      "Epoch 26/50\n"
     ]
    },
    {
     "name": "stdout",
     "output_type": "stream",
     "text": [
      "189/189 [==============================] - 86s 452ms/step - det_loss: 0.2878 - cls_loss: 0.2461 - box_loss: 8.3303e-04 - reg_l2_loss: 0.0709 - loss: 0.3587 - learning_rate: 0.0047 - gradient_norm: 2.7928 - val_det_loss: 0.3165 - val_cls_loss: 0.2454 - val_box_loss: 0.0014 - val_reg_l2_loss: 0.0710 - val_loss: 0.3874\n",
      "Epoch 27/50\n",
      "189/189 [==============================] - 87s 459ms/step - det_loss: 0.2785 - cls_loss: 0.2400 - box_loss: 7.6901e-04 - reg_l2_loss: 0.0710 - loss: 0.3495 - learning_rate: 0.0044 - gradient_norm: 2.8219 - val_det_loss: 0.3760 - val_cls_loss: 0.2807 - val_box_loss: 0.0019 - val_reg_l2_loss: 0.0710 - val_loss: 0.4470\n",
      "Epoch 28/50\n",
      "189/189 [==============================] - 85s 448ms/step - det_loss: 0.2757 - cls_loss: 0.2347 - box_loss: 8.1942e-04 - reg_l2_loss: 0.0710 - loss: 0.3467 - learning_rate: 0.0040 - gradient_norm: 2.7381 - val_det_loss: 0.3192 - val_cls_loss: 0.2239 - val_box_loss: 0.0019 - val_reg_l2_loss: 0.0710 - val_loss: 0.3902\n",
      "Epoch 29/50\n",
      "189/189 [==============================] - 85s 450ms/step - det_loss: 0.2621 - cls_loss: 0.2252 - box_loss: 7.3789e-04 - reg_l2_loss: 0.0710 - loss: 0.3332 - learning_rate: 0.0037 - gradient_norm: 2.7611 - val_det_loss: 0.2789 - val_cls_loss: 0.1973 - val_box_loss: 0.0016 - val_reg_l2_loss: 0.0710 - val_loss: 0.3500\n",
      "Epoch 30/50\n",
      "189/189 [==============================] - 92s 486ms/step - det_loss: 0.2555 - cls_loss: 0.2196 - box_loss: 7.1924e-04 - reg_l2_loss: 0.0710 - loss: 0.3266 - learning_rate: 0.0034 - gradient_norm: 2.6243 - val_det_loss: 0.3225 - val_cls_loss: 0.2203 - val_box_loss: 0.0020 - val_reg_l2_loss: 0.0710 - val_loss: 0.3936\n",
      "Epoch 31/50\n",
      "189/189 [==============================] - 85s 446ms/step - det_loss: 0.2449 - cls_loss: 0.2091 - box_loss: 7.1522e-04 - reg_l2_loss: 0.0710 - loss: 0.3159 - learning_rate: 0.0031 - gradient_norm: 2.4365 - val_det_loss: 0.3180 - val_cls_loss: 0.2243 - val_box_loss: 0.0019 - val_reg_l2_loss: 0.0710 - val_loss: 0.3890\n",
      "Epoch 32/50\n",
      "189/189 [==============================] - 85s 452ms/step - det_loss: 0.2410 - cls_loss: 0.2071 - box_loss: 6.7695e-04 - reg_l2_loss: 0.0710 - loss: 0.3120 - learning_rate: 0.0028 - gradient_norm: 2.5656 - val_det_loss: 0.3179 - val_cls_loss: 0.2236 - val_box_loss: 0.0019 - val_reg_l2_loss: 0.0710 - val_loss: 0.3889\n",
      "Epoch 33/50\n",
      "189/189 [==============================] - 88s 467ms/step - det_loss: 0.2404 - cls_loss: 0.2059 - box_loss: 6.8956e-04 - reg_l2_loss: 0.0710 - loss: 0.3114 - learning_rate: 0.0025 - gradient_norm: 2.5532 - val_det_loss: 0.3659 - val_cls_loss: 0.2173 - val_box_loss: 0.0030 - val_reg_l2_loss: 0.0710 - val_loss: 0.4369\n",
      "Epoch 34/50\n",
      "189/189 [==============================] - 86s 452ms/step - det_loss: 0.2324 - cls_loss: 0.1995 - box_loss: 6.5836e-04 - reg_l2_loss: 0.0710 - loss: 0.3034 - learning_rate: 0.0023 - gradient_norm: 2.4763 - val_det_loss: 0.2749 - val_cls_loss: 0.1925 - val_box_loss: 0.0016 - val_reg_l2_loss: 0.0710 - val_loss: 0.3459\n",
      "Epoch 35/50\n",
      "189/189 [==============================] - 93s 492ms/step - det_loss: 0.2296 - cls_loss: 0.1958 - box_loss: 6.7606e-04 - reg_l2_loss: 0.0710 - loss: 0.3006 - learning_rate: 0.0020 - gradient_norm: 2.4734 - val_det_loss: 0.3203 - val_cls_loss: 0.2146 - val_box_loss: 0.0021 - val_reg_l2_loss: 0.0710 - val_loss: 0.3913\n",
      "Epoch 36/50\n",
      "189/189 [==============================] - 85s 451ms/step - det_loss: 0.2260 - cls_loss: 0.1926 - box_loss: 6.6830e-04 - reg_l2_loss: 0.0710 - loss: 0.2971 - learning_rate: 0.0018 - gradient_norm: 2.4701 - val_det_loss: 0.2931 - val_cls_loss: 0.1942 - val_box_loss: 0.0020 - val_reg_l2_loss: 0.0710 - val_loss: 0.3641\n",
      "Epoch 37/50\n",
      "189/189 [==============================] - 86s 457ms/step - det_loss: 0.2207 - cls_loss: 0.1893 - box_loss: 6.2721e-04 - reg_l2_loss: 0.0710 - loss: 0.2917 - learning_rate: 0.0015 - gradient_norm: 2.3726 - val_det_loss: 0.2821 - val_cls_loss: 0.1951 - val_box_loss: 0.0017 - val_reg_l2_loss: 0.0710 - val_loss: 0.3532\n",
      "Epoch 38/50\n",
      "189/189 [==============================] - 86s 452ms/step - det_loss: 0.2156 - cls_loss: 0.1842 - box_loss: 6.2717e-04 - reg_l2_loss: 0.0710 - loss: 0.2866 - learning_rate: 0.0013 - gradient_norm: 2.4052 - val_det_loss: 0.2924 - val_cls_loss: 0.2058 - val_box_loss: 0.0017 - val_reg_l2_loss: 0.0710 - val_loss: 0.3634\n",
      "Epoch 39/50\n",
      "189/189 [==============================] - 88s 463ms/step - det_loss: 0.2127 - cls_loss: 0.1822 - box_loss: 6.1003e-04 - reg_l2_loss: 0.0710 - loss: 0.2837 - learning_rate: 0.0011 - gradient_norm: 2.3795 - val_det_loss: 0.2686 - val_cls_loss: 0.1890 - val_box_loss: 0.0016 - val_reg_l2_loss: 0.0710 - val_loss: 0.3396\n",
      "Epoch 40/50\n",
      "189/189 [==============================] - 92s 484ms/step - det_loss: 0.2096 - cls_loss: 0.1801 - box_loss: 5.9108e-04 - reg_l2_loss: 0.0710 - loss: 0.2806 - learning_rate: 8.9985e-04 - gradient_norm: 2.2396 - val_det_loss: 0.2656 - val_cls_loss: 0.1871 - val_box_loss: 0.0016 - val_reg_l2_loss: 0.0710 - val_loss: 0.3366\n",
      "Epoch 41/50\n",
      "189/189 [==============================] - 87s 458ms/step - det_loss: 0.2097 - cls_loss: 0.1797 - box_loss: 6.0072e-04 - reg_l2_loss: 0.0710 - loss: 0.2807 - learning_rate: 7.2503e-04 - gradient_norm: 2.2974 - val_det_loss: 0.2842 - val_cls_loss: 0.1904 - val_box_loss: 0.0019 - val_reg_l2_loss: 0.0710 - val_loss: 0.3552\n",
      "Epoch 42/50\n",
      "189/189 [==============================] - 90s 476ms/step - det_loss: 0.2194 - cls_loss: 0.1874 - box_loss: 6.3992e-04 - reg_l2_loss: 0.0710 - loss: 0.2904 - learning_rate: 5.6777e-04 - gradient_norm: 2.3930 - val_det_loss: 0.2967 - val_cls_loss: 0.1959 - val_box_loss: 0.0020 - val_reg_l2_loss: 0.0710 - val_loss: 0.3677\n",
      "Epoch 43/50\n",
      "189/189 [==============================] - 90s 475ms/step - det_loss: 0.2102 - cls_loss: 0.1799 - box_loss: 6.0722e-04 - reg_l2_loss: 0.0710 - loss: 0.2812 - learning_rate: 4.2873e-04 - gradient_norm: 2.2230 - val_det_loss: 0.2701 - val_cls_loss: 0.1841 - val_box_loss: 0.0017 - val_reg_l2_loss: 0.0710 - val_loss: 0.3411\n",
      "Epoch 44/50\n",
      "189/189 [==============================] - 90s 477ms/step - det_loss: 0.2090 - cls_loss: 0.1799 - box_loss: 5.8269e-04 - reg_l2_loss: 0.0710 - loss: 0.2800 - learning_rate: 3.0847e-04 - gradient_norm: 2.2262 - val_det_loss: 0.2724 - val_cls_loss: 0.1852 - val_box_loss: 0.0017 - val_reg_l2_loss: 0.0710 - val_loss: 0.3434\n",
      "Epoch 45/50\n",
      "189/189 [==============================] - 101s 536ms/step - det_loss: 0.2046 - cls_loss: 0.1756 - box_loss: 5.7994e-04 - reg_l2_loss: 0.0710 - loss: 0.2756 - learning_rate: 2.0749e-04 - gradient_norm: 2.2414 - val_det_loss: 0.2680 - val_cls_loss: 0.1847 - val_box_loss: 0.0017 - val_reg_l2_loss: 0.0710 - val_loss: 0.3390\n",
      "Epoch 46/50\n",
      "189/189 [==============================] - 89s 468ms/step - det_loss: 0.2000 - cls_loss: 0.1719 - box_loss: 5.6109e-04 - reg_l2_loss: 0.0710 - loss: 0.2710 - learning_rate: 1.2621e-04 - gradient_norm: 2.1935 - val_det_loss: 0.2694 - val_cls_loss: 0.1855 - val_box_loss: 0.0017 - val_reg_l2_loss: 0.0710 - val_loss: 0.3404\n",
      "Epoch 47/50\n",
      "189/189 [==============================] - 1038s 6s/step - det_loss: 0.2007 - cls_loss: 0.1722 - box_loss: 5.7134e-04 - reg_l2_loss: 0.0710 - loss: 0.2717 - learning_rate: 6.4946e-05 - gradient_norm: 2.2046 - val_det_loss: 0.2697 - val_cls_loss: 0.1853 - val_box_loss: 0.0017 - val_reg_l2_loss: 0.0710 - val_loss: 0.3407\n",
      "Epoch 48/50\n",
      "189/189 [==============================] - 74s 390ms/step - det_loss: 0.2071 - cls_loss: 0.1775 - box_loss: 5.9110e-04 - reg_l2_loss: 0.0710 - loss: 0.2781 - learning_rate: 2.3966e-05 - gradient_norm: 2.3453 - val_det_loss: 0.2693 - val_cls_loss: 0.1853 - val_box_loss: 0.0017 - val_reg_l2_loss: 0.0710 - val_loss: 0.3403\n",
      "Epoch 49/50\n",
      "189/189 [==============================] - 75s 394ms/step - det_loss: 0.2036 - cls_loss: 0.1750 - box_loss: 5.7126e-04 - reg_l2_loss: 0.0710 - loss: 0.2746 - learning_rate: 3.4339e-06 - gradient_norm: 2.2183 - val_det_loss: 0.2688 - val_cls_loss: 0.1865 - val_box_loss: 0.0016 - val_reg_l2_loss: 0.0710 - val_loss: 0.3398\n",
      "Epoch 50/50\n",
      "189/189 [==============================] - 84s 442ms/step - det_loss: 0.2018 - cls_loss: 0.1729 - box_loss: 5.7786e-04 - reg_l2_loss: 0.0710 - loss: 0.2728 - learning_rate: 3.4333e-06 - gradient_norm: 2.1489 - val_det_loss: 0.2716 - val_cls_loss: 0.1871 - val_box_loss: 0.0017 - val_reg_l2_loss: 0.0710 - val_loss: 0.3426\n"
     ]
    }
   ],
   "source": [
    "model = object_detector.create(train_data, model_spec=spec, batch_size=8, train_whole_model=True, validation_data=validation_data)"
   ]
  },
  {
   "cell_type": "code",
   "execution_count": 6,
   "id": "db8c575b",
   "metadata": {},
   "outputs": [
    {
     "name": "stdout",
     "output_type": "stream",
     "text": [
      "2/2 [==============================] - 50s 7s/step\n",
      "\n"
     ]
    },
    {
     "data": {
      "text/plain": [
       "{'AP': 0.77609366,\n",
       " 'AP50': 0.97090024,\n",
       " 'AP75': 0.95383763,\n",
       " 'APs': -1.0,\n",
       " 'APm': -1.0,\n",
       " 'APl': 0.7761833,\n",
       " 'ARmax1': 0.7954861,\n",
       " 'ARmax10': 0.8257639,\n",
       " 'ARmax100': 0.8257639,\n",
       " 'ARs': -1.0,\n",
       " 'ARm': -1.0,\n",
       " 'ARl': 0.8257639,\n",
       " 'AP_/U': 0.85049504,\n",
       " 'AP_/P': 0.8,\n",
       " 'AP_/K': 0.75929594,\n",
       " 'AP_/W': 0.8557756,\n",
       " 'AP_/J': 0.6638614,\n",
       " 'AP_/M': 0.7484338,\n",
       " 'AP_/N': 0.595132,\n",
       " 'AP_/X': 0.8,\n",
       " 'AP_/S': 0.81466043,\n",
       " 'AP_/D': 0.9,\n",
       " 'AP_/Z': 0.8085809,\n",
       " 'AP_/F': 0.9,\n",
       " 'AP_/O': 0.6965601,\n",
       " 'AP_/T': 0.8240924,\n",
       " 'AP_/E': -1.0,\n",
       " 'AP_/H': 0.70356303,\n",
       " 'AP_/C': 0.87145215,\n",
       " 'AP_/I': 0.47245726,\n",
       " 'AP_/L': -1.0,\n",
       " 'AP_/B': 0.78349835,\n",
       " 'AP_/Q': 0.66732675,\n",
       " 'AP_/V': 0.7823549,\n",
       " 'AP_/G': 0.7428658,\n",
       " 'AP_/Y': 0.8252475,\n",
       " 'AP_/A': 1.0,\n",
       " 'AP_/R': 0.76059407}"
      ]
     },
     "execution_count": 6,
     "metadata": {},
     "output_type": "execute_result"
    }
   ],
   "source": [
    "model.evaluate(test_data)"
   ]
  },
  {
   "cell_type": "code",
   "execution_count": 7,
   "id": "9c3b864f",
   "metadata": {},
   "outputs": [],
   "source": [
    "model.export(export_dir='D:\\Technical Education\\Kotlin_Resources\\Machine_Learning_Apps\\Sign Language App')"
   ]
  },
  {
   "cell_type": "code",
   "execution_count": null,
   "id": "f2da8f30",
   "metadata": {},
   "outputs": [],
   "source": []
  }
 ],
 "metadata": {
  "kernelspec": {
   "display_name": "Python 3",
   "language": "python",
   "name": "python3"
  },
  "language_info": {
   "codemirror_mode": {
    "name": "ipython",
    "version": 3
   },
   "file_extension": ".py",
   "mimetype": "text/x-python",
   "name": "python",
   "nbconvert_exporter": "python",
   "pygments_lexer": "ipython3",
   "version": "3.9.0"
  }
 },
 "nbformat": 4,
 "nbformat_minor": 5
}
