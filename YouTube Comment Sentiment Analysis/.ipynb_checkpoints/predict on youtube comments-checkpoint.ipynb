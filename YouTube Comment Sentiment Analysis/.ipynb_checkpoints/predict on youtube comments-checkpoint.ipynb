{
 "cells": [
  {
   "cell_type": "code",
   "execution_count": 1,
   "id": "c3ec3eca",
   "metadata": {},
   "outputs": [
    {
     "name": "stderr",
     "output_type": "stream",
     "text": [
      "C:\\Users\\jobin\\AppData\\Local\\Programs\\Python\\Python39\\lib\\site-packages\\tensorflow_addons\\utils\\ensure_tf_install.py:53: UserWarning: Tensorflow Addons supports using Python ops for all Tensorflow versions above or equal to 2.3.0 and strictly below 2.6.0 (nightly versions are not supported). \n",
      " The versions of TensorFlow you are currently using is 2.7.0 and is not supported. \n",
      "Some things might work, some things might not.\n",
      "If you were to encounter a bug, do not file an issue.\n",
      "If you want to make sure you're using a tested and supported configuration, either change the TensorFlow version or the TensorFlow Addons's version. \n",
      "You can find the compatibility matrix in TensorFlow Addon's readme:\n",
      "https://github.com/tensorflow/addons\n",
      "  warnings.warn(\n"
     ]
    }
   ],
   "source": [
    "import tensorflow as tf\n",
    "import tensorflow_text as text\n",
    "import pandas as pd\n",
    "from official.nlp import optimization\n",
    "import numpy as np"
   ]
  },
  {
   "cell_type": "code",
   "execution_count": 2,
   "id": "4602e8c3",
   "metadata": {},
   "outputs": [],
   "source": [
    "youtube_df = pd.read_csv(\"youtube_cnn.csv\")"
   ]
  },
  {
   "cell_type": "code",
   "execution_count": 3,
   "id": "7fd0028b",
   "metadata": {},
   "outputs": [
    {
     "data": {
      "text/plain": [
       "Unnamed: 0     5898\n",
       "Comment        5895\n",
       "Likes          5898\n",
       "Time           5898\n",
       "UserLink       5898\n",
       "user           5898\n",
       "video title    5898\n",
       "dtype: int64"
      ]
     },
     "execution_count": 3,
     "metadata": {},
     "output_type": "execute_result"
    }
   ],
   "source": [
    "youtube_df.count()"
   ]
  },
  {
   "cell_type": "code",
   "execution_count": 4,
   "id": "38c81a5d",
   "metadata": {},
   "outputs": [],
   "source": [
    "analysis_df = youtube_df.drop([\"Unnamed: 0\", \"UserLink\", \"user\"], axis=1)\n"
   ]
  },
  {
   "cell_type": "code",
   "execution_count": 43,
   "id": "5798bc15",
   "metadata": {},
   "outputs": [],
   "source": [
    "analysis_df = analysis_df.dropna(axis=0)"
   ]
  },
  {
   "cell_type": "code",
   "execution_count": 51,
   "id": "162de0a0",
   "metadata": {},
   "outputs": [
    {
     "data": {
      "text/plain": [
       "30    I'm sorry my brother, survivors' guilt is diff...\n",
       "31                           Thank you for speaking up.\n",
       "32    Wow, he is a hero Americans should be looking ...\n",
       "33    How to make money in Tennessee.\\nFamily is ver...\n",
       "34    The suicides never produce afterlives, not eve...\n",
       "35                                        Class act man\n",
       "36    This is so heartbreaking ,  any one hearts a c...\n",
       "37    I never understood why university sexual abuse...\n",
       "38    Thank you, Jon Vaughn, for talking about this....\n",
       "39        Brave man, much we all need to learn from him\n",
       "Name: Comment, dtype: object"
      ]
     },
     "execution_count": 51,
     "metadata": {},
     "output_type": "execute_result"
    }
   ],
   "source": [
    "analysis_df.iloc[30:40][\"Comment\"]"
   ]
  },
  {
   "cell_type": "code",
   "execution_count": 45,
   "id": "ddbe2483",
   "metadata": {},
   "outputs": [],
   "source": [
    "dataset = tf.convert_to_tensor(analysis_df[\"Comment\"], dtype=tf.string)"
   ]
  },
  {
   "cell_type": "code",
   "execution_count": null,
   "id": "ae024d59",
   "metadata": {},
   "outputs": [],
   "source": [
    "dataset\n"
   ]
  },
  {
   "cell_type": "code",
   "execution_count": 46,
   "id": "a0bfbc58",
   "metadata": {},
   "outputs": [
    {
     "name": "stdout",
     "output_type": "stream",
     "text": [
      "WARNING:tensorflow:No training configuration found in save file, so the model was *not* compiled. Compile it manually.\n"
     ]
    }
   ],
   "source": [
    "sentiment_model = tf.keras.models.load_model(\"bert_sentiment_140_saved_model\")"
   ]
  },
  {
   "cell_type": "code",
   "execution_count": 49,
   "id": "cfbe4ea0",
   "metadata": {},
   "outputs": [],
   "source": [
    "results = sentiment_model.predict(dataset)"
   ]
  },
  {
   "cell_type": "code",
   "execution_count": null,
   "id": "9cf1a1ad",
   "metadata": {},
   "outputs": [],
   "source": [
    "sentiment_model"
   ]
  },
  {
   "cell_type": "code",
   "execution_count": 50,
   "id": "39b0c5ac",
   "metadata": {},
   "outputs": [
    {
     "data": {
      "text/plain": [
       "array([[0.22802581],\n",
       "       [0.9914722 ],\n",
       "       [0.9820064 ],\n",
       "       [0.30430788],\n",
       "       [0.13444115],\n",
       "       [0.42256823],\n",
       "       [0.01983101],\n",
       "       [0.23848596],\n",
       "       [0.82473993],\n",
       "       [0.96634346]], dtype=float32)"
      ]
     },
     "execution_count": 50,
     "metadata": {},
     "output_type": "execute_result"
    }
   ],
   "source": [
    "results[30:40]"
   ]
  },
  {
   "cell_type": "raw",
   "id": "5a77e47a",
   "metadata": {},
   "source": []
  },
  {
   "cell_type": "code",
   "execution_count": null,
   "id": "a3f967dd",
   "metadata": {},
   "outputs": [],
   "source": [
    "sentiment_results = "
   ]
  }
 ],
 "metadata": {
  "kernelspec": {
   "display_name": "Python 3 (ipykernel)",
   "language": "python",
   "name": "python3"
  },
  "language_info": {
   "codemirror_mode": {
    "name": "ipython",
    "version": 3
   },
   "file_extension": ".py",
   "mimetype": "text/x-python",
   "name": "python",
   "nbconvert_exporter": "python",
   "pygments_lexer": "ipython3",
   "version": "3.9.0"
  }
 },
 "nbformat": 4,
 "nbformat_minor": 5
}
